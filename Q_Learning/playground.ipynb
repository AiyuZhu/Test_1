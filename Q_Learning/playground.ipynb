{
 "cells": [
  {
   "cell_type": "code",
   "execution_count": 9,
   "metadata": {
    "collapsed": true,
    "pycharm": {
     "is_executing": false
    }
   },
   "outputs": [
    {
     "data": {
      "text/plain": "2020-02-07 15:42:30.578386   -0.600074\n2020-02-08 15:42:30.578386    0.157576\n2020-02-09 15:42:30.578386   -2.786059\n2020-02-10 15:42:30.578386   -2.233724\n2020-02-11 15:42:30.578386    0.742360\n2020-02-12 15:42:30.578386    2.384849\nFreq: D, Name: Total Rewards, dtype: float64"
     },
     "metadata": {},
     "output_type": "execute_result",
     "execution_count": 9
    }
   ],
   "source": [
    "import numpy as np\n",
    "import pandas as pd\n",
    "\n",
    "dates = pd.date_range('today', periods=6)  # 定义时间序列作为 index\n",
    "num_arr = np.random.randn(6, 4)  # 传入 numpy 随机数组\n",
    "columns = ['Total Rewards', 'Total Steps', 'R/S Ratio', 'States Record']  # 将列表作为列名\n",
    "df1 = pd.DataFrame(num_arr, index=dates, columns=columns)\n",
    "df1[\"Total Rewards\"]\n",
    "\n",
    "\n"
   ]
  }
 ],
 "metadata": {
  "kernelspec": {
   "display_name": "Python 3",
   "language": "python",
   "name": "python3"
  },
  "language_info": {
   "codemirror_mode": {
    "name": "ipython",
    "version": 2
   },
   "file_extension": ".py",
   "mimetype": "text/x-python",
   "name": "python",
   "nbconvert_exporter": "python",
   "pygments_lexer": "ipython2",
   "version": "2.7.6"
  },
  "pycharm": {
   "stem_cell": {
    "cell_type": "raw",
    "source": [],
    "metadata": {
     "collapsed": false
    }
   }
  }
 },
 "nbformat": 4,
 "nbformat_minor": 0
}